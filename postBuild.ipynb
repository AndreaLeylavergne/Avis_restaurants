{
 "cells": [
  {
   "cell_type": "code",
   "execution_count": 1,
   "id": "6060e7c4-ee67-4279-8fc2-a78798239ad1",
   "metadata": {
    "scrolled": true
   },
   "outputs": [
    {
     "name": "stdout",
     "output_type": "stream",
     "text": [
      "Writing postBuild\n"
     ]
    }
   ],
   "source": [
    "%%writefile postBuild\n",
    "#!/bin/bash\n",
    "\n",
    "pip install voila\n",
    "jupyter serverextension enable voila --sys-prefix\n"
   ]
  },
  {
   "cell_type": "code",
   "execution_count": null,
   "id": "16dcdc8e-9c9b-4bb9-9230-0f17464d3d64",
   "metadata": {},
   "outputs": [],
   "source": []
  }
 ],
 "metadata": {
  "kernelspec": {
   "display_name": "kernel_6",
   "language": "python",
   "name": "kernel_6"
  },
  "language_info": {
   "codemirror_mode": {
    "name": "ipython",
    "version": 3
   },
   "file_extension": ".py",
   "mimetype": "text/x-python",
   "name": "python",
   "nbconvert_exporter": "python",
   "pygments_lexer": "ipython3",
   "version": "3.10.13"
  }
 },
 "nbformat": 4,
 "nbformat_minor": 5
}
